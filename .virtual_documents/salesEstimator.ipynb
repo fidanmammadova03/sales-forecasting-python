import pandas as pd


df = pd.read_csv("train.csv")


df = df.drop("record_ID", axis = 1)


df[['day', 'month', 'year']] = df['week'].str.split('/', expand = True)
df[['day', 'month', 'year']] = df[['day', 'month', 'year']].astype(int)


df =df.drop('week', axis = 1)
df


df.units_sold.hist(bins= 20)


df = df[df.units_sold <= df.units_sold.quantile(0.99)]



df.units_sold.hist(bins = 20)


len(df.store_id.unique())


len(df.sku_id.unique())


df = df.join(pd.get_dummies(df.store_id, prefix="store")).drop('store_id', axis=1)
df = df.join(pd.get_dummies(df.sku_id, prefix="sku")).drop('sku_id', axis=1)


df


df.hist(figsize = (15,10))


print(df.isnull().sum())


from sklearn.model_selection import train_test_split
from sklearn.ensemble import RandomForestRegressor
from sklearn.metrics import mean_squared_error, r2_score
from sklearn.impute import SimpleImputer

target_column = 'units_sold'
X = df.drop(columns=[target_column])
y = df[target_column]

numeric_features = [col for col in X.columns if not col.startswith(('store_', 'sku_'))]

numeric_transformer = Pipeline(steps=[
    ('imputer', SimpleImputer(strategy='mean')),
    ('scaler', StandardScaler())
])

preprocessor = ColumnTransformer(
    transformers=[
        ('num', numeric_transformer, numeric_features)
    ],
    remainder='passthrough' 
)




from sklearn.linear_model import Ridge
from sklearn.ensemble import GradientBoostingRegressor, RandomForestRegressor
from sklearn.model_selection import cross_val_score

models = {
    "RandomForest": RandomForestRegressor(),
    "GradientBoosting": GradientBoostingRegressor(),
    "Ridge": Ridge()
}

for name, model in models.items():
    pipeline = Pipeline(steps=[
        ('preprocessor', preprocessor),
        ('regressor', model)
    ])
    scores = cross_val_score(pipeline, X, y, cv=5, scoring='neg_root_mean_squared_error')
    print(f"{name}: RMSE = {-scores.mean():.4f}")



from sklearn.model_selection import RandomizedSearchCV
from sklearn.ensemble import RandomForestRegressor

from scipy.stats import randint

param_dist = {
    'regressor__n_estimators': randint(100, 301),  # sample from 100 to 300
    'regressor__max_depth': [10, 20, None],
    'regressor__min_samples_split': [2, 5]
}

random_search = RandomizedSearchCV(
    pipeline,
    param_distributions=param_dist,
    n_iter=10,  # Only 10 random combinations
    cv=3,
    scoring='neg_root_mean_squared_error',
    random_state=42,
    n_jobs=1  # Keep system responsive
)

import time
start = time.time()
random_search.fit(X, y)
end = time.time()

print("Best RMSE:", -random_search.best_score_)
print("Best Params:", random_search.best_params_)
print("Time taken: %.2f minutes" % ((end - start)/60))








