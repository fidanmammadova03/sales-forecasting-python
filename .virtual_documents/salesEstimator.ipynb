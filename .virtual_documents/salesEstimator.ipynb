import pandas as pd


df = pd.read_csv("train.csv")


df = df.drop("record_ID", axis = 1)


df[['day', 'month', 'year']] = df['week'].str.split('/', expand = True)
df[['day', 'month', 'year']] = df[['day', 'month', 'year']].astype(int)


df =df.drop('week', axis = 1)
df


df.units_sold.hist(bins= 20)


df = df[df.units_sold <= df.units_sold.quantile(0.99)]



df.units_sold.hist(bins = 20)


len(df.store_id.unique())


len(df.sku_id.unique())


df = df.join(pd.get_dummies(df.store_id, prefix="store")).drop('store_id', axis=1)
df = df.join(pd.get_dummies(df.sku_id, prefix="sku")).drop('sku_id', axis=1)


df


df.hist(figsize = (15,10))


print(df.isnull().sum())


from sklearn.compose import ColumnTransformer
from sklearn.discriminant_analysis import StandardScaler
from sklearn.model_selection import train_test_split
from sklearn.ensemble import RandomForestRegressor
from sklearn.metrics import mean_squared_error, r2_score
from sklearn.impute import SimpleImputer
from sklearn.pipeline import Pipeline

target_column = 'units_sold'
X = df.drop(columns=[target_column])
y = df[target_column]

numeric_features = [col for col in X.columns if not col.startswith(('store_', 'sku_'))]

numeric_transformer = Pipeline(steps=[
    ('imputer', SimpleImputer(strategy='mean')),
    ('scaler', StandardScaler())
])

preprocessor = ColumnTransformer(
    transformers=[
        ('num', numeric_transformer, numeric_features)
    ],
    remainder='passthrough' 
)




from sklearn.linear_model import Ridge
from sklearn.ensemble import GradientBoostingRegressor, RandomForestRegressor
from sklearn.model_selection import cross_val_score

models = {
    "RandomForest": RandomForestRegressor(),
    "GradientBoosting": GradientBoostingRegressor(),
    "Ridge": Ridge()
}

for name, model in models.items():
    pipeline = Pipeline(steps=[
        ('preprocessor', preprocessor),
        ('regressor', model)
    ])
    scores = cross_val_score(pipeline, X, y, cv=5, scoring='neg_root_mean_squared_error')
    print(f"{name}: RMSE = {-scores.mean():.4f}")



test_df = pd.read_csv("test.csv")
test_df = test_df.drop("record_ID", axis=1)
test_df[['day', 'month', 'year']] = test_df['week'].str.split('/', expand=True).astype(int)
test_df = test_df.drop('week', axis=1)

# One-hot encode store and sku
test_df = test_df.join(pd.get_dummies(test_df['store_id'], prefix='store')).drop('store_id', axis=1)
test_df = test_df.join(pd.get_dummies(test_df['sku_id'], prefix='sku')).drop('sku_id', axis=1)



from sklearn.ensemble import RandomForestRegressor
from sklearn.pipeline import Pipeline

# Define best model after CV
best_model = RandomForestRegressor(n_estimators=200, max_depth=20, random_state=42)

# Final pipeline with the best model
final_pipeline = Pipeline(steps=[
    ('preprocessor', preprocessor),
    ('regressor', best_model)
])

# Train on all training data
final_pipeline.fit(X, y)



test_df = test_df[X.columns]  # align column order with training set
predictions = pipeline.predict(test_df)

pd.DataFrame({'predicted_units_sold': predictions}).to_csv('test_predictions.csv', index=False)










